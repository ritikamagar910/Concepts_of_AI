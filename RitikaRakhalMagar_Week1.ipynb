{
  "nbformat": 4,
  "nbformat_minor": 0,
  "metadata": {
    "colab": {
      "provenance": []
    },
    "kernelspec": {
      "name": "python3",
      "display_name": "Python 3"
    },
    "language_info": {
      "name": "python"
    }
  },
  "cells": [
    {
      "cell_type": "code",
      "execution_count": null,
      "metadata": {
        "id": "GPJxWBo5FzJS",
        "colab": {
          "base_uri": "https://localhost:8080/"
        },
        "outputId": "45a61dea-8ffb-4fa3-91b1-1f7b4c2ea2f9"
      },
      "outputs": [
        {
          "output_type": "stream",
          "name": "stdout",
          "text": [
            "[[5.06389995e-310 0.00000000e+000]\n",
            " [1.58101007e-322 2.37151510e-322]]\n"
          ]
        }
      ],
      "source": [
        "#Problem-1: Array Creation:\n",
        "#1\n",
        "import numpy as np\n",
        "empty_array = np.empty((2,2))\n",
        "print(empty_array)"
      ]
    },
    {
      "cell_type": "code",
      "source": [
        "#2\n",
        "import numpy as np\n",
        "ones_array = np.ones((4,2))\n",
        "print(ones_array)"
      ],
      "metadata": {
        "colab": {
          "base_uri": "https://localhost:8080/"
        },
        "id": "NNm5OU21IN6t",
        "outputId": "d41c13b2-8321-4c38-8417-77f98612a2d2"
      },
      "execution_count": null,
      "outputs": [
        {
          "output_type": "stream",
          "name": "stdout",
          "text": [
            "[[1. 1.]\n",
            " [1. 1.]\n",
            " [1. 1.]\n",
            " [1. 1.]]\n"
          ]
        }
      ]
    },
    {
      "cell_type": "code",
      "source": [
        "#3\n",
        "import numpy as np\n",
        "filled_array = np.full((3,3), 7)\n",
        "print(filled_array)"
      ],
      "metadata": {
        "colab": {
          "base_uri": "https://localhost:8080/"
        },
        "id": "MxUEUcrfIfcX",
        "outputId": "558b3f6d-0511-474d-840e-7e3768ec2db7"
      },
      "execution_count": null,
      "outputs": [
        {
          "output_type": "stream",
          "name": "stdout",
          "text": [
            "[[7 7 7]\n",
            " [7 7 7]\n",
            " [7 7 7]]\n"
          ]
        }
      ]
    },
    {
      "cell_type": "code",
      "source": [
        "#4\n",
        "import numpy as np\n",
        "given_array = np.array([[1,2],[3,4]])\n",
        "zeros_array = np.zeros_like(given_array)\n",
        "print(zeros_array)"
      ],
      "metadata": {
        "colab": {
          "base_uri": "https://localhost:8080/"
        },
        "id": "8vKwAVQBI6T8",
        "outputId": "7aa36737-c56a-4e69-900b-0ebf7707d41b"
      },
      "execution_count": null,
      "outputs": [
        {
          "output_type": "stream",
          "name": "stdout",
          "text": [
            "[[0 0]\n",
            " [0 0]]\n"
          ]
        }
      ]
    },
    {
      "cell_type": "code",
      "source": [
        "#5\n",
        "import numpy as np\n",
        "given_array = np.array([[1,2],[3,4]])\n",
        "ones_array = np.ones_like(given_array)\n",
        "print(ones_array)"
      ],
      "metadata": {
        "colab": {
          "base_uri": "https://localhost:8080/"
        },
        "id": "UGHjz5gMJeXT",
        "outputId": "7b04a13c-c773-4d96-876d-ac43df4b258a"
      },
      "execution_count": null,
      "outputs": [
        {
          "output_type": "stream",
          "name": "stdout",
          "text": [
            "[[1 1]\n",
            " [1 1]]\n"
          ]
        }
      ]
    },
    {
      "cell_type": "code",
      "source": [
        "#6\n",
        "import numpy as np\n",
        "new_list = [1,2,3,4]\n",
        "numpy_array = np.array(new_list)\n",
        "print(numpy_array)"
      ],
      "metadata": {
        "colab": {
          "base_uri": "https://localhost:8080/"
        },
        "id": "pSLC9YqpJ4pg",
        "outputId": "41ef5ea6-bd78-4737-a6a3-dd1b6ea38922"
      },
      "execution_count": null,
      "outputs": [
        {
          "output_type": "stream",
          "name": "stdout",
          "text": [
            "[1 2 3 4]\n"
          ]
        }
      ]
    },
    {
      "cell_type": "code",
      "source": [
        "#Problem-2: Array Manipulation: Numerical Ranges and Array indexing:\n",
        "#1\n",
        "import numpy as np\n",
        "range_array = np.arange(10,49)\n",
        "print(range_array)"
      ],
      "metadata": {
        "colab": {
          "base_uri": "https://localhost:8080/"
        },
        "id": "tmVchcMKKUCw",
        "outputId": "c71e6874-90d7-4405-8603-ce144e8bb2c8"
      },
      "execution_count": null,
      "outputs": [
        {
          "output_type": "stream",
          "name": "stdout",
          "text": [
            "[10 11 12 13 14 15 16 17 18 19 20 21 22 23 24 25 26 27 28 29 30 31 32 33\n",
            " 34 35 36 37 38 39 40 41 42 43 44 45 46 47 48]\n"
          ]
        }
      ]
    },
    {
      "cell_type": "code",
      "source": [
        "#2\n",
        "import numpy as np\n",
        "matrix = np.arange(9).reshape(3,3)\n",
        "print(matrix)"
      ],
      "metadata": {
        "colab": {
          "base_uri": "https://localhost:8080/"
        },
        "id": "9Sc2MBOfLB8i",
        "outputId": "39b84c0c-011f-4012-c5e9-69818be260d7"
      },
      "execution_count": null,
      "outputs": [
        {
          "output_type": "stream",
          "name": "stdout",
          "text": [
            "[[0 1 2]\n",
            " [3 4 5]\n",
            " [6 7 8]]\n"
          ]
        }
      ]
    },
    {
      "cell_type": "code",
      "source": [
        "#3\n",
        "import numpy as np\n",
        "matrix = np.eye(3)\n",
        "print(matrix)"
      ],
      "metadata": {
        "colab": {
          "base_uri": "https://localhost:8080/"
        },
        "id": "QYpM3XelMLGL",
        "outputId": "4eb6eff6-65cf-4169-b7a5-1dfbfc425808"
      },
      "execution_count": null,
      "outputs": [
        {
          "output_type": "stream",
          "name": "stdout",
          "text": [
            "[[1. 0. 0.]\n",
            " [0. 1. 0.]\n",
            " [0. 0. 1.]]\n"
          ]
        }
      ]
    },
    {
      "cell_type": "code",
      "source": [
        "#4\n",
        "import numpy as np\n",
        "random_array = np.random.random(30)\n",
        "mean_value = np.mean(random_array)\n",
        "print(mean_value)"
      ],
      "metadata": {
        "colab": {
          "base_uri": "https://localhost:8080/"
        },
        "id": "E0yhAHpEMmO6",
        "outputId": "4d0fa028-c006-456d-9131-cc7f6cdf1767"
      },
      "execution_count": null,
      "outputs": [
        {
          "output_type": "stream",
          "name": "stdout",
          "text": [
            "0.5566241328486747\n"
          ]
        }
      ]
    },
    {
      "cell_type": "code",
      "source": [
        "#5\n",
        "import numpy as np\n",
        "random_array = np.random.random((10,10))\n",
        "min_value = np.min(random_array)\n",
        "max_value = np.max(random_array)\n",
        "print(\"Random 10x10 array:\")\n",
        "print(random_array)\n",
        "print(\"Minimum value:\", min_value)\n",
        "print(\"Maximum value:\", max_value)"
      ],
      "metadata": {
        "colab": {
          "base_uri": "https://localhost:8080/"
        },
        "id": "YcdUiOiLNCT1",
        "outputId": "53e66a82-d5d3-4fa3-e1e3-939c2a0908e9"
      },
      "execution_count": null,
      "outputs": [
        {
          "output_type": "stream",
          "name": "stdout",
          "text": [
            "Random 10x10 array:\n",
            "[[0.43165686 0.87171487 0.86751506 0.47274812 0.97151127 0.99047705\n",
            "  0.08891678 0.95240059 0.43631435 0.64683237]\n",
            " [0.50406209 0.94230935 0.01444371 0.20385166 0.4403593  0.57365391\n",
            "  0.99709481 0.32311539 0.50885234 0.76641636]\n",
            " [0.52715944 0.12408841 0.36658965 0.53313868 0.41491559 0.40648776\n",
            "  0.02480181 0.4919007  0.36518313 0.93757635]\n",
            " [0.90082298 0.56487307 0.21833273 0.68858237 0.8734865  0.14196093\n",
            "  0.16520289 0.13863588 0.96692873 0.45201356]\n",
            " [0.47402595 0.83623261 0.05912583 0.63819976 0.63810681 0.24836009\n",
            "  0.67489967 0.85283566 0.13942669 0.13852271]\n",
            " [0.11113893 0.49898555 0.16012502 0.19000394 0.46994141 0.609769\n",
            "  0.30980777 0.16090629 0.81652985 0.32492526]\n",
            " [0.0329979  0.82842448 0.70138032 0.85646275 0.52358985 0.02556073\n",
            "  0.59169096 0.68625708 0.8773326  0.18382474]\n",
            " [0.68318751 0.58190813 0.81178786 0.54178424 0.01952613 0.81838832\n",
            "  0.38538121 0.56301924 0.64899483 0.73069856]\n",
            " [0.0881235  0.67218698 0.4621455  0.88970462 0.68312255 0.46285606\n",
            "  0.97307643 0.14886183 0.67128728 0.71141029]\n",
            " [0.01419384 0.31240595 0.64345169 0.89870719 0.52181765 0.91029888\n",
            "  0.14359021 0.73515293 0.2621832  0.96786467]]\n",
            "Minimum value: 0.014193837868872738\n",
            "Maximum value: 0.9970948129750137\n"
          ]
        }
      ]
    },
    {
      "cell_type": "code",
      "source": [
        "#6\n",
        "import numpy as np\n",
        "zeros_array = np.zeros(10)\n",
        "zeros_array[4] = 1\n",
        "print(zeros_array)"
      ],
      "metadata": {
        "colab": {
          "base_uri": "https://localhost:8080/"
        },
        "id": "RVO3u0KgN-9Z",
        "outputId": "e0f6c810-ab82-452c-ef5e-7a88fd283d63"
      },
      "execution_count": null,
      "outputs": [
        {
          "output_type": "stream",
          "name": "stdout",
          "text": [
            "[0. 0. 0. 0. 1. 0. 0. 0. 0. 0.]\n"
          ]
        }
      ]
    },
    {
      "cell_type": "code",
      "source": [
        "#7\n",
        "import numpy as np\n",
        "arr = [1,2,0,0,4,0]\n",
        "reversed_array = arr[::-1]\n",
        "print(reversed_array)"
      ],
      "metadata": {
        "colab": {
          "base_uri": "https://localhost:8080/"
        },
        "id": "7Ix6vNcTOVw1",
        "outputId": "05da186c-0c2d-4bc6-aedc-fec956d9f97f"
      },
      "execution_count": null,
      "outputs": [
        {
          "output_type": "stream",
          "name": "stdout",
          "text": [
            "[0, 4, 0, 0, 2, 1]\n"
          ]
        }
      ]
    },
    {
      "cell_type": "code",
      "source": [
        "#8\n",
        "import numpy as np\n",
        "n = 5\n",
        "array = np.zeros((n, n), dtype=int)\n",
        "array[0, :] = 1\n",
        "array[-1, :] = 1\n",
        "array[:, 0] = 1\n",
        "array[:, -1] = 1\n",
        "print(array)"
      ],
      "metadata": {
        "colab": {
          "base_uri": "https://localhost:8080/"
        },
        "id": "bwNRfk7SOq8D",
        "outputId": "6d1ce86b-800c-4f92-e8bd-e969889e71f0"
      },
      "execution_count": null,
      "outputs": [
        {
          "output_type": "stream",
          "name": "stdout",
          "text": [
            "[[1 1 1 1 1]\n",
            " [1 0 0 0 1]\n",
            " [1 0 0 0 1]\n",
            " [1 0 0 0 1]\n",
            " [1 1 1 1 1]]\n"
          ]
        }
      ]
    },
    {
      "cell_type": "code",
      "source": [
        "#9\n",
        "import numpy as np\n",
        "matrix = np.zeros((8,8), dtype=int)\n",
        "matrix[1::2, ::2] = 1\n",
        "matrix[::2, 1::2] = 1\n",
        "print(matrix)"
      ],
      "metadata": {
        "colab": {
          "base_uri": "https://localhost:8080/"
        },
        "id": "tg0-01FMPYxO",
        "outputId": "52d5599a-97ef-4ad9-f250-a9213c1c2365"
      },
      "execution_count": null,
      "outputs": [
        {
          "output_type": "stream",
          "name": "stdout",
          "text": [
            "[[0 1 0 1 0 1 0 1]\n",
            " [1 0 1 0 1 0 1 0]\n",
            " [0 1 0 1 0 1 0 1]\n",
            " [1 0 1 0 1 0 1 0]\n",
            " [0 1 0 1 0 1 0 1]\n",
            " [1 0 1 0 1 0 1 0]\n",
            " [0 1 0 1 0 1 0 1]\n",
            " [1 0 1 0 1 0 1 0]]\n"
          ]
        }
      ]
    },
    {
      "cell_type": "code",
      "source": [
        "#Problem-3: Array Operations:\n",
        "#1\n",
        "import numpy as np\n",
        "x = np.array([[1,2],[3,5]])\n",
        "y = np.array([[5,6],[7,8]])\n",
        "v = np.array([9,10])\n",
        "w = np.array([11,12])\n",
        "result1 = x+y\n",
        "result2 = v+w\n",
        "print(result1)\n",
        "print(result2)"
      ],
      "metadata": {
        "colab": {
          "base_uri": "https://localhost:8080/"
        },
        "id": "AQMBLOT9PqCM",
        "outputId": "34d47e9a-5f81-487e-bedc-c7a4fa1e957a"
      },
      "execution_count": null,
      "outputs": [
        {
          "output_type": "stream",
          "name": "stdout",
          "text": [
            "[[ 6  8]\n",
            " [10 13]]\n",
            "[20 22]\n"
          ]
        }
      ]
    },
    {
      "cell_type": "code",
      "source": [
        "#2\n",
        "import numpy as np\n",
        "x = np.array([[1,2],[3,5]])\n",
        "y = np.array([[5,6],[7,8]])\n",
        "v = np.array([9,10])\n",
        "w = np.array([11,12])\n",
        "result1 = x-y\n",
        "result2 = v-w\n",
        "print(result1)\n",
        "print(result2)"
      ],
      "metadata": {
        "colab": {
          "base_uri": "https://localhost:8080/"
        },
        "id": "zMNs7G59QcRG",
        "outputId": "48af32cb-bf44-4bd0-f348-8ea896dedfdd"
      },
      "execution_count": null,
      "outputs": [
        {
          "output_type": "stream",
          "name": "stdout",
          "text": [
            "[[-4 -4]\n",
            " [-4 -3]]\n",
            "[-2 -2]\n"
          ]
        }
      ]
    },
    {
      "cell_type": "code",
      "source": [
        "#3\n",
        "import numpy as np\n",
        "multiplied_array = array * 7\n",
        "print(multiplied_array)"
      ],
      "metadata": {
        "colab": {
          "base_uri": "https://localhost:8080/"
        },
        "id": "hvL3aj-PQiR-",
        "outputId": "7bcfbdf8-88bc-409a-a51f-4f986b8b44f5"
      },
      "execution_count": null,
      "outputs": [
        {
          "output_type": "stream",
          "name": "stdout",
          "text": [
            "[[7 7 7 7 7]\n",
            " [7 0 0 0 7]\n",
            " [7 0 0 0 7]\n",
            " [7 0 0 0 7]\n",
            " [7 7 7 7 7]]\n"
          ]
        }
      ]
    },
    {
      "cell_type": "code",
      "source": [
        "#4\n",
        "import numpy as np\n",
        "x = np.array([[1,2],[3,5]])\n",
        "y = np.array([[5,6],[7,8]])\n",
        "v = np.array([9,10])\n",
        "w = np.array([11,12])\n",
        "result1 = x*x\n",
        "result2 = y*y\n",
        "result3 = v*v\n",
        "result4 = w*w\n",
        "print(result1)\n",
        "print(result2)\n",
        "print(result3)\n",
        "print(result4)"
      ],
      "metadata": {
        "colab": {
          "base_uri": "https://localhost:8080/"
        },
        "id": "4yIMvp4vRIC8",
        "outputId": "469c8ad1-8eb9-4b8d-c023-d2eefb605f0a"
      },
      "execution_count": null,
      "outputs": [
        {
          "output_type": "stream",
          "name": "stdout",
          "text": [
            "[[ 1  4]\n",
            " [ 9 25]]\n",
            "[[25 36]\n",
            " [49 64]]\n",
            "[ 81 100]\n",
            "[121 144]\n"
          ]
        }
      ]
    },
    {
      "cell_type": "code",
      "source": [
        "#5\n",
        "import numpy as np\n",
        "x = np.array([[1,2],[3,5]])\n",
        "y = np.array([[5,6],[7,8]])\n",
        "v = np.array([9,10])\n",
        "w = np.array([11,12])\n",
        "dot_product1 = np.dot(x,y)\n",
        "dot_product2 = np.dot(v,w)\n",
        "print(dot_product1)\n",
        "print(dot_product2)"
      ],
      "metadata": {
        "colab": {
          "base_uri": "https://localhost:8080/"
        },
        "id": "03MvmchkRkPK",
        "outputId": "b44ef2db-df98-4bb6-8ea2-098c7079c1fa"
      },
      "execution_count": null,
      "outputs": [
        {
          "output_type": "stream",
          "name": "stdout",
          "text": [
            "[[19 22]\n",
            " [50 58]]\n",
            "219\n"
          ]
        }
      ]
    },
    {
      "cell_type": "code",
      "source": [
        "#6\n",
        "import numpy as np\n",
        "x = np.array([[1,2],[3,5]])\n",
        "y = np.array([[5,6],[7,8]])\n",
        "v = np.array([9,10])\n",
        "w = np.array([11,12])\n",
        "conca1 = np.concatenate((x,y), axis=0)\n",
        "conca2 = np.concatenate((v,w), axis=0)\n",
        "print(conca1)\n",
        "print(conca2)"
      ],
      "metadata": {
        "colab": {
          "base_uri": "https://localhost:8080/"
        },
        "id": "AslYxMPOR0Tj",
        "outputId": "01760031-a13d-4ae9-e556-62efae745ff4"
      },
      "execution_count": null,
      "outputs": [
        {
          "output_type": "stream",
          "name": "stdout",
          "text": [
            "[[1 2]\n",
            " [3 5]\n",
            " [5 6]\n",
            " [7 8]]\n",
            "[ 9 10 11 12]\n"
          ]
        }
      ]
    },
    {
      "cell_type": "code",
      "source": [
        "#7\n",
        "import numpy as np\n",
        "x = np.array([[1,2],[3,5]])\n",
        "v = np.array([9,10])\n",
        "conca = np.concatenate((x,v), axis=0)\n",
        "print(conca)\n",
        "#The error \"ValueError: all the input arrays must have same number of dimensions\" occurs because code is trying to concatenate a 2D array (shape: (2, 2)) with a 1D array (shape: (2,)). np.concatenate requires all arrays to have the same number of dimensions."
      ],
      "metadata": {
        "id": "YTCBScR7URqN"
      },
      "execution_count": null,
      "outputs": []
    },
    {
      "cell_type": "code",
      "source": [
        "#Problem-4: Matrix Operations:\n",
        "import numpy as np\n",
        "\n",
        "A = np.array([[3, 4], [7, 8]])\n",
        "B = np.array([[5, 3], [2, 1]])\n",
        "\n",
        "# 1\n",
        "A_inv = np.linalg.inv(A)\n",
        "I = np.dot(A, A_inv)\n",
        "print(\"A * A_inv = \\n\", I)\n",
        "print(\"Hence proved: A * A_inv = Identity matrix.\\n\")\n",
        "\n",
        "# 2\n",
        "AB = np.dot(A, B)\n",
        "BA = np.dot(B, A)\n",
        "print(\"AB = \\n\", AB)\n",
        "print(\"BA = \\n\", BA)\n",
        "print(\"Hence proved: AB and BA are not equal.\\n\")\n",
        "\n",
        "# 3\n",
        "AB_T = np.transpose(np.dot(A, B))\n",
        "BT_AT = np.dot(np.transpose(B), np.transpose(A))\n",
        "print(\"(AB)^T = \\n\", AB_T)\n",
        "print(\"B^T * A^T = \\n\", BT_AT)\n",
        "print(\"Hence proved: (AB)^T = B^T * A^T.\\n\")\n"
      ],
      "metadata": {
        "colab": {
          "base_uri": "https://localhost:8080/"
        },
        "id": "c6qS7PlPUb6W",
        "outputId": "3ee06ed2-2bc7-4d13-cfe7-5d51e26d5eb4"
      },
      "execution_count": 1,
      "outputs": [
        {
          "output_type": "stream",
          "name": "stdout",
          "text": [
            "A * A_inv = \n",
            " [[1.00000000e+00 0.00000000e+00]\n",
            " [1.77635684e-15 1.00000000e+00]]\n",
            "Hence proved: A * A_inv = Identity matrix.\n",
            "\n",
            "AB = \n",
            " [[23 13]\n",
            " [51 29]]\n",
            "BA = \n",
            " [[36 44]\n",
            " [13 16]]\n",
            "Hence proved: AB and BA are not equal.\n",
            "\n",
            "(AB)^T = \n",
            " [[23 51]\n",
            " [13 29]]\n",
            "B^T * A^T = \n",
            " [[23 51]\n",
            " [13 29]]\n",
            "Hence proved: (AB)^T = B^T * A^T.\n",
            "\n"
          ]
        }
      ]
    },
    {
      "cell_type": "code",
      "source": [
        "#Linear equation using Inverse Methods\n",
        "import numpy as np\n",
        "A = np.array([[2, -3, 1],\n",
        "              [1, -1, 2],\n",
        "              [3, 1, -1]])\n",
        "\n",
        "B = np.array([[-1],\n",
        "              [-3],\n",
        "              [9]])\n",
        "A_inv = np.linalg.inv(A)\n",
        "\n",
        "X = np.dot(A_inv, B)\n",
        "\n",
        "print(\"The solution to the system is:\")\n",
        "print(f\"x = {X[0][0]}\")\n",
        "print(f\"y = {X[1][0]}\")\n",
        "print(f\"z = {X[2][0]}\")"
      ],
      "metadata": {
        "colab": {
          "base_uri": "https://localhost:8080/"
        },
        "id": "AcypUNOVrnTt",
        "outputId": "912ef059-f632-48af-9db4-157feb5a6292"
      },
      "execution_count": 2,
      "outputs": [
        {
          "output_type": "stream",
          "name": "stdout",
          "text": [
            "The solution to the system is:\n",
            "x = 2.0\n",
            "y = 1.0\n",
            "z = -2.0\n"
          ]
        }
      ]
    }
  ]
}